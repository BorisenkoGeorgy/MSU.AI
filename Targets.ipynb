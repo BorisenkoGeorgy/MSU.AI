{
 "cells": [
  {
   "cell_type": "code",
   "execution_count": 1,
   "id": "f78fc5f4",
   "metadata": {},
   "outputs": [],
   "source": [
    "import os, warnings, gc\n",
    "\n",
    "import pandas as pd\n",
    "import numpy as np\n",
    "\n",
    "import matplotlib.pyplot as plt"
   ]
  },
  {
   "cell_type": "code",
   "execution_count": 2,
   "id": "272536fc",
   "metadata": {},
   "outputs": [],
   "source": [
    "companies = ['AFLT', 'GAZP', 'GMKN', 'LKOH', 'NVTK', 'ROSN', 'SBER', 'TCSG', 'VTBR', 'YNDX']"
   ]
  },
  {
   "cell_type": "code",
   "execution_count": 17,
   "id": "705c2259",
   "metadata": {
    "scrolled": true
   },
   "outputs": [],
   "source": [
    "for company in companies:\n",
    "    df = pd.read_parquet(f'targets/{company}.parquet')\n",
    "    df['mean_1_min'] = (df['open'] + df['high'] + df['low'] + df['close']) / 4\n",
    "    df['mean_5_min'] = (df['mean_1_min'] * df['vol']).rolling(5).sum() / df['vol'].rolling(5).sum()\n",
    "    df['mean_10_min'] = (df['mean_1_min'] * df['vol']).rolling(10).sum() / df['vol'].rolling(10).sum()\n",
    "    df['mean_15_min'] = (df['mean_1_min'] * df['vol']).rolling(15).sum() / df['vol'].rolling(15).sum()\n",
    "    df['mean_30_min'] = (df['mean_1_min'] * df['vol']).rolling(30).sum() / df['vol'].rolling(30).sum()\n",
    "    df['mean_1_hour'] = (df['mean_1_min'] * df['vol']).rolling(60).sum() / df['vol'].rolling(60).sum()\n",
    "    df['mean_1_day'] = (df['mean_1_min'] * df['vol']).rolling(60*9).sum() / df['vol'].rolling(60*9).sum()\n",
    "    df['rate_1_min'] = df['mean_1_min'] / df['mean_1_min'].shift(1) - 1\n",
    "    df['rate_5_min'] = df['mean_5_min'] / df['mean_5_min'].shift(5) - 1\n",
    "    df['rate_10_min'] = df['mean_10_min'] / df['mean_10_min'].shift(10) - 1\n",
    "    df['rate_15_min'] = df['mean_15_min'] / df['mean_15_min'].shift(15) - 1\n",
    "    df['rate_30_min'] = df['mean_30_min'] / df['mean_30_min'].shift(15) - 1\n",
    "    df['rate_1_hour'] = df['mean_1_hour'] / df['mean_1_hour'].shift(60) - 1\n",
    "    df['rate_1_day'] = df['mean_1_day'] / df['mean_1_day'].shift(60*9) - 1\n",
    "    df.drop(columns=['mean_1_min', 'mean_5_min', 'mean_10_min', 'mean_15_min', 'mean_30_min', 'mean_1_hour', 'mean_1_day'], inplace=True)\n",
    "    for time, sh in zip(['1_min', '5_min', '10_min', '15_min', '30_min', '1_hour', '1_day'],\n",
    "                   [1, 5, 10, 15, 30, 60, 60*9]):\n",
    "        for i in range(10):\n",
    "            df[f'{time}_lag_{i}'] = df[f'rate_{time}'].shift(i * sh)\n",
    "            \n",
    "    df.to_parquet(f'targets/{company}.parquet')"
   ]
  },
  {
   "cell_type": "code",
   "execution_count": 20,
   "id": "fabc6cee",
   "metadata": {
    "scrolled": true
   },
   "outputs": [],
   "source": [
    "first_dates = pd.DataFrame(index=companies)\n",
    "first_dates['date'] = 0\n",
    "\n",
    "for company in companies:\n",
    "    df = pd.read_parquet(f'targets/{company}.parquet')\n",
    "    df.dropna(inplace=True)\n",
    "    df.reset_index(inplace=True, drop=True)\n",
    "    first_dates.loc[company, 'date'] = df['date'][0]"
   ]
  },
  {
   "cell_type": "code",
   "execution_count": 3,
   "id": "098e0281",
   "metadata": {},
   "outputs": [],
   "source": [
    "data = pd.read_parquet('data.parquet')"
   ]
  },
  {
   "cell_type": "code",
   "execution_count": 7,
   "id": "e956d94a",
   "metadata": {},
   "outputs": [],
   "source": [
    "data = data.iloc[:,:15].copy()"
   ]
  },
  {
   "cell_type": "code",
   "execution_count": 8,
   "id": "462e6dd1",
   "metadata": {},
   "outputs": [],
   "source": [
    "data.sort_values('date', inplace=True, ignore_index=True)\n",
    "data_with_lags = pd.DataFrame()\n",
    "for company in companies:\n",
    "    targets = pd.read_parquet(f'targets/{company}.parquet')\n",
    "    df = data[data[company] == True].copy()\n",
    "    df['date'] += pd.Timedelta(1, 'sec')\n",
    "    merged = pd.merge_asof(df, targets, on='date', direction='backward')\n",
    "    merged['date'] -= pd.Timedelta(1, 'sec')\n",
    "    data_with_lags = pd.concat([data_with_lags, merged])\n",
    "data_with_lags.drop_duplicates(inplace=True)\n",
    "data_with_lags.reset_index(drop=True, inplace=True)"
   ]
  },
  {
   "cell_type": "code",
   "execution_count": 13,
   "id": "83be6e8e",
   "metadata": {},
   "outputs": [],
   "source": [
    "data_with_lags.to_parquet('data.parquet')"
   ]
  },
  {
   "cell_type": "code",
   "execution_count": 3,
   "id": "c905b5c7",
   "metadata": {},
   "outputs": [],
   "source": [
    "data = pd.read_parquet('data.parquet')"
   ]
  },
  {
   "cell_type": "code",
   "execution_count": 16,
   "id": "a46bc3e4",
   "metadata": {},
   "outputs": [],
   "source": [
    "def mapper(x):\n",
    "    if x == 2:\n",
    "        return 2\n",
    "    if x == -2:\n",
    "        return 0\n",
    "    if x == 0:\n",
    "        return 1"
   ]
  },
  {
   "cell_type": "code",
   "execution_count": 54,
   "id": "dae6eddb",
   "metadata": {
    "scrolled": true
   },
   "outputs": [],
   "source": [
    "data_with_targets = pd.DataFrame()\n",
    "data = pd.read_parquet('data.parquet')\n",
    "\n",
    "data.drop_duplicates(['message_lemm'], inplace=True)\n",
    "times = ['1_min', '5_min', '10_min', '15_min', '30_min', '1_hour', '1_day']\n",
    "for company in companies:\n",
    "    df = pd.read_parquet(f'targets/{company}.parquet')\n",
    "    for time, sh in zip(times, [1, 5, 10, 15, 30, 60, 60*9]):\n",
    "        df[f'{time}_2_cls'] = df[f'{time}_lag_0'] < df[f'rate_{time}'].shift(-sh)\n",
    "        cols_for_std = [f'{time}_lag_{i}' for i in range(10)]\n",
    "        if time != '1_min':\n",
    "            means = df[cols_for_std].mean(axis=1)\n",
    "            stds = df[cols_for_std].std(axis=1)\n",
    "            neg_type = (df[f'{time}_lag_0'] > means - 1 * stds).astype(int)\n",
    "            pos_type = (df[f'{time}_lag_0'] > means + 1 * stds).astype(int)\n",
    "            df[f'{time}_3_cls'] = neg_type + pos_type\n",
    "    \n",
    "    cols_cls = [f'{time}_2_cls' for time in times] + [f'{time}_3_cls' for time in times[1:]]\n",
    "    df = df[['date', *cols_cls]].copy()\n",
    "    data_slice = data[data[company] == True].copy()\n",
    "    data_slice['date'] += pd.Timedelta(1, 'sec')\n",
    "    merged = pd.merge_asof(data_slice, df, on='date', direction='backward')\n",
    "    merged['date'] -= pd.Timedelta(1, 'sec')\n",
    "    data_with_targets = pd.concat([data_with_targets, merged])\n",
    "    \n",
    "data_with_targets.drop_duplicates(inplace=True)\n",
    "data_with_targets.reset_index(drop=True, inplace=True)"
   ]
  },
  {
   "cell_type": "code",
   "execution_count": null,
   "id": "54823fa1",
   "metadata": {},
   "outputs": [],
   "source": [
    "data_with_targets"
   ]
  },
  {
   "cell_type": "code",
   "execution_count": 65,
   "id": "133eb281",
   "metadata": {},
   "outputs": [
    {
     "data": {
      "text/plain": [
       "<AxesSubplot:>"
      ]
     },
     "execution_count": 65,
     "metadata": {},
     "output_type": "execute_result"
    },
    {
     "data": {
      "image/png": "[encoded data removed]",
      "text/plain": [
       "<Figure size 640x480 with 1 Axes>"
      ]
     },
     "metadata": {},
     "output_type": "display_data"
    }
   ],
   "source": [
    "data_with_targets.to_parquet('data.pa')"
   ]
  }
 ],
 "metadata": {
  "kernelspec": {
   "display_name": "Python 3 (ipykernel)",
   "language": "python",
   "name": "python3"
  },
  "language_info": {
   "codemirror_mode": {
    "name": "ipython",
    "version": 3
   },
   "file_extension": ".py",
   "mimetype": "text/x-python",
   "name": "python",
   "nbconvert_exporter": "python",
   "pygments_lexer": "ipython3",
   "version": "3.9.13"
  }
 },
 "nbformat": 4,
 "nbformat_minor": 5
}
