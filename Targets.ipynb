{
 "cells": [
  {
   "cell_type": "code",
   "execution_count": 4,
   "id": "f78fc5f4",
   "metadata": {},
   "outputs": [],
   "source": [
    "import os, warnings, gc\n",
    "\n",
    "import pandas as pd\n",
    "import numpy as np\n",
    "\n",
    "import matplotlib.pyplot as plt"
   ]
  },
  {
   "cell_type": "code",
   "execution_count": 2,
   "id": "272536fc",
   "metadata": {},
   "outputs": [],
   "source": [
    "companies = ['AFLT', 'GAZP', 'GMKN', 'LKOH', 'NVTK', 'ROSN', 'SBER', 'TCSG', 'VTBR', 'YNDX']"
   ]
  },
  {
   "cell_type": "code",
   "execution_count": 17,
   "id": "705c2259",
   "metadata": {
    "scrolled": true
   },
   "outputs": [],
   "source": [
    "for company in companies:\n",
    "    df = pd.read_parquet(f'targets/{company}.parquet')\n",
    "    df['mean_1_min'] = (df['open'] + df['high'] + df['low'] + df['close']) / 4\n",
    "    df['mean_5_min'] = (df['mean_1_min'] * df['vol']).rolling(5).sum() / df['vol'].rolling(5).sum()\n",
    "    df['mean_10_min'] = (df['mean_1_min'] * df['vol']).rolling(10).sum() / df['vol'].rolling(10).sum()\n",
    "    df['mean_15_min'] = (df['mean_1_min'] * df['vol']).rolling(15).sum() / df['vol'].rolling(15).sum()\n",
    "    df['mean_30_min'] = (df['mean_1_min'] * df['vol']).rolling(30).sum() / df['vol'].rolling(30).sum()\n",
    "    df['mean_1_hour'] = (df['mean_1_min'] * df['vol']).rolling(60).sum() / df['vol'].rolling(60).sum()\n",
    "    df['mean_1_day'] = (df['mean_1_min'] * df['vol']).rolling(60*9).sum() / df['vol'].rolling(60*9).sum()\n",
    "    df['rate_1_min'] = df['mean_1_min'] / df['mean_1_min'].shift(1) - 1\n",
    "    df['rate_5_min'] = df['mean_5_min'] / df['mean_5_min'].shift(5) - 1\n",
    "    df['rate_10_min'] = df['mean_10_min'] / df['mean_10_min'].shift(10) - 1\n",
    "    df['rate_15_min'] = df['mean_15_min'] / df['mean_15_min'].shift(15) - 1\n",
    "    df['rate_30_min'] = df['mean_30_min'] / df['mean_30_min'].shift(15) - 1\n",
    "    df['rate_1_hour'] = df['mean_1_hour'] / df['mean_1_hour'].shift(60) - 1\n",
    "    df['rate_1_day'] = df['mean_1_day'] / df['mean_1_day'].shift(60*9) - 1\n",
    "    df.drop(columns=['mean_1_min', 'mean_5_min', 'mean_10_min', 'mean_15_min', 'mean_30_min', 'mean_1_hour', 'mean_1_day'], inplace=True)\n",
    "    for time, sh in zip(['1_min', '5_min', '10_min', '15_min', '30_min', '1_hour', '1_day'],\n",
    "                   [1, 5, 10, 15, 30, 60, 60*9]):\n",
    "        for i in range(10):\n",
    "            df[f'{time}_lag_{i}'] = df[f'rate_{time}'].shift(i * sh)\n",
    "            \n",
    "    df.to_parquet(f'targets/{company}.parquet')"
   ]
  },
  {
   "cell_type": "code",
   "execution_count": 20,
   "id": "fabc6cee",
   "metadata": {
    "scrolled": true
   },
   "outputs": [],
   "source": [
    "first_dates = pd.DataFrame(index=companies)\n",
    "first_dates['date'] = 0\n",
    "\n",
    "for company in companies:\n",
    "    df = pd.read_parquet(f'targets/{company}.parquet')\n",
    "    df.dropna(inplace=True)\n",
    "    df.reset_index(inplace=True, drop=True)\n",
    "    first_dates.loc[company, 'date'] = df['date'][0]"
   ]
  },
  {
   "cell_type": "code",
   "execution_count": 4,
   "id": "098e0281",
   "metadata": {},
   "outputs": [],
   "source": [
    "data = pd.read_parquet('C:/Users/ап/Рабочий стол/Нейросети для исследований научка/data.parquet')"
   ]
  },
  {
   "cell_type": "code",
   "execution_count": 7,
   "id": "e956d94a",
   "metadata": {},
   "outputs": [],
   "source": [
    "data = data.iloc[:,:15].copy()"
   ]
  },
  {
   "cell_type": "code",
   "execution_count": 14,
   "id": "462e6dd1",
   "metadata": {},
   "outputs": [
    {
     "name": "stdout",
     "output_type": "stream",
     "text": [
      "AFLT\n",
      "GAZP\n",
      "GMKN\n",
      "LKOH\n",
      "NVTK\n",
      "ROSN\n",
      "SBER\n",
      "TCSG\n",
      "VTBR\n",
      "YNDX\n"
     ]
    }
   ],
   "source": [
    "data.sort_values('date', inplace=True, ignore_index=True)\n",
    "data_with_lags = pd.DataFrame()\n",
    "for company in companies:\n",
    "    print(f'{company}')\n",
    "    targets = pd.read_parquet(f'D:/Жора/Data/targets/{company}.parquet')\n",
    "    targets['date'] = targets['date'].astype('datetime64[ns]')\n",
    "    df = data[data[company] == True].copy()\n",
    "    df['date'] += pd.Timedelta(1, 'sec')\n",
    "    merged = pd.merge_asof(df, targets, on='date', direction='backward')\n",
    "    merged['date'] -= pd.Timedelta(1, 'sec')\n",
    "    merged['company'] = company\n",
    "    data_with_lags = pd.concat([data_with_lags, merged])\n",
    "data_with_lags.drop_duplicates(inplace=True)\n",
    "data_with_lags.reset_index(drop=True, inplace=True)"
   ]
  },
  {
   "cell_type": "code",
   "execution_count": 16,
   "id": "83be6e8e",
   "metadata": {},
   "outputs": [],
   "source": [
    "data_with_lags.to_parquet('data.parquet')"
   ]
  },
  {
   "cell_type": "code",
   "execution_count": 17,
   "id": "c905b5c7",
   "metadata": {},
   "outputs": [],
   "source": [
    "data = pd.read_parquet('data.parquet')"
   ]
  },
  {
   "cell_type": "code",
   "execution_count": 18,
   "id": "a46bc3e4",
   "metadata": {},
   "outputs": [],
   "source": [
    "def mapper(x):\n",
    "    if x == 2:\n",
    "        return 2\n",
    "    if x == -2:\n",
    "        return 0\n",
    "    if x == 0:\n",
    "        return 1"
   ]
  },
  {
   "cell_type": "code",
   "execution_count": 37,
   "id": "dae6eddb",
   "metadata": {
    "scrolled": true
   },
   "outputs": [
    {
     "name": "stdout",
     "output_type": "stream",
     "text": [
      "AFLT\n",
      "GAZP\n",
      "GMKN\n",
      "LKOH\n",
      "NVTK\n",
      "ROSN\n",
      "SBER\n",
      "TCSG\n",
      "VTBR\n",
      "YNDX\n"
     ]
    }
   ],
   "source": [
    "data_with_targets = pd.DataFrame()\n",
    "data = pd.read_parquet('data.parquet')\n",
    "data.sort_values('date', inplace=True, ignore_index=True)\n",
    "\n",
    "# data.drop_duplicates(['message_lemm'], inplace=True)\n",
    "times = ['5_min', '10_min', '15_min', '30_min', '1_hour', '1_day']\n",
    "for company in companies:\n",
    "    print(f'{company}')\n",
    "    df = pd.read_parquet(f'D:/Жора/Data/targets/{company}.parquet')\n",
    "    df['date'] = df['date'].astype('datetime64[ns]')\n",
    "    for time, sh in zip(times, [5, 10, 15, 30, 60, 60*9]):\n",
    "        df[f'{time}_2_cls'] = df[f'{time}_lag_0'] < df[f'rate_{time}'].shift(-sh)\n",
    "        cols_for_std = [f'{time}_lag_{i}' for i in range(10)]\n",
    "        if time != '1_min':\n",
    "            means = df[cols_for_std].mean(axis=1)\n",
    "            stds = df[cols_for_std].std(axis=1)\n",
    "            neg_type = (df[f'{time}_lag_0'] > means - 1 * stds).astype(int)\n",
    "            pos_type = (df[f'{time}_lag_0'] > means + 1 * stds).astype(int)\n",
    "            df[f'{time}_3_cls'] = neg_type + pos_type\n",
    "    \n",
    "    cols_cls = [f'{time}_2_cls' for time in times] + [f'{time}_3_cls' for time in times]\n",
    "    df = df[['date', *cols_cls]].copy()\n",
    "    data_slice = data[data['company'] == company].copy()\n",
    "    data_slice['date'] += pd.Timedelta(1, 'sec')\n",
    "    merged = pd.merge_asof(data_slice, df, on='date', direction='backward')\n",
    "    merged['date'] -= pd.Timedelta(1, 'sec')\n",
    "    data_with_targets = pd.concat([data_with_targets, merged])\n",
    "    \n",
    "data_with_targets.drop_duplicates(inplace=True, ignore_index=True)"
   ]
  },
  {
   "cell_type": "code",
   "execution_count": 63,
   "id": "133eb281",
   "metadata": {},
   "outputs": [],
   "source": [
    "data_with_targets.dropna(inplace=True, ignore_index=True)\n",
    "data_with_targets.to_parquet('data.parquet')"
   ]
  },
  {
   "cell_type": "code",
   "execution_count": 62,
   "id": "a12f554d",
   "metadata": {},
   "outputs": [
    {
     "data": {
      "text/plain": [
       "(array([1136.,    0.,    0.,    0.,    0., 4421.,    0.,    0.,    0.,\n",
       "        1447.]),\n",
       " array([0. , 0.2, 0.4, 0.6, 0.8, 1. , 1.2, 1.4, 1.6, 1.8, 2. ]),\n",
       " <BarContainer object of 10 artists>)"
      ]
     },
     "execution_count": 62,
     "metadata": {},
     "output_type": "execute_result"
    },
    {
     "data": {
      "image/png": "[encoded data removed]",
      "text/plain": [
       "<Figure size 640x480 with 1 Axes>"
      ]
     },
     "metadata": {},
     "output_type": "display_data"
    }
   ],
   "source": [
    "plt.hist(data_with_targets[data_with_targets['company'] == 'LKOH']['10_min_3_cls'])"
   ]
  },
  {
   "cell_type": "code",
   "execution_count": 53,
   "id": "2150a2ca",
   "metadata": {},
   "outputs": [],
   "source": [
    "gazoil_comps = ['GAZP', 'ROSN', 'LKOH', 'NVTK']\n",
    "finance_comps = ['SBER', 'VTBR', 'TCSG']\n",
    "df = pd.read_parquet('data.parquet')"
   ]
  },
  {
   "cell_type": "code",
   "execution_count": 54,
   "id": "45257f8d",
   "metadata": {},
   "outputs": [],
   "source": [
    "df_gasoil = df[df['company'].isin(gazoil_comps)]\n",
    "df_gasoil = df_gasoil[['date', 'message_lemm', 'message_raw', 'company']].copy()\n",
    "df_gasoil['index_for_bert'] = df_gasoil.index\n",
    "df_gasoil.sort_values('date', ignore_index=True, inplace=True)"
   ]
  },
  {
   "cell_type": "code",
   "execution_count": 55,
   "id": "8b28526f",
   "metadata": {},
   "outputs": [
    {
     "name": "stdout",
     "output_type": "stream",
     "text": [
      "GAZP\n",
      "ROSN\n",
      "LKOH\n",
      "NVTK\n"
     ]
    }
   ],
   "source": [
    "df_gasoil['date'] += pd.Timedelta(1, 'sec')\n",
    "for company in gazoil_comps:\n",
    "    print(f'{company}')\n",
    "    targets = pd.read_parquet(f'D:/Жора/Data/targets/{company}.parquet')\n",
    "    lag_cols_old = [col for col in targets.columns if ('lag' in col) and ('1_min' not in col)]\n",
    "    lag_cols_new = [f'{company}_{col}' for col in lag_cols_old]\n",
    "    targets.rename(columns={i:j for i, j in zip(lag_cols_old, lag_cols_new)}, inplace=True)\n",
    "    targets['date'] = targets['date'].astype('datetime64[ns]')\n",
    "  \n",
    "    df_gasoil = pd.merge_asof(df_gasoil, targets[['date', *lag_cols_new]], on='date', direction='backward')\n",
    "\n",
    "df_gasoil['date'] -= pd.Timedelta(1, 'sec')"
   ]
  },
  {
   "cell_type": "code",
   "execution_count": 56,
   "id": "24288854",
   "metadata": {},
   "outputs": [],
   "source": [
    "df_gasoil.to_parquet('data_gazoil.parquet')"
   ]
  },
  {
   "cell_type": "code",
   "execution_count": 69,
   "id": "6caf8f45",
   "metadata": {},
   "outputs": [],
   "source": [
    "df_finance = df[df['company'].isin(finance_comps)]\n",
    "df_finance = df_finance[['date', 'message_lemm', 'message_raw', 'company']].copy()\n",
    "df_finance['index_for_bert'] = df_finance.index\n",
    "df_finance.sort_values('date', ignore_index=True, inplace=True)"
   ]
  },
  {
   "cell_type": "code",
   "execution_count": 76,
   "id": "d531bf9b",
   "metadata": {},
   "outputs": [],
   "source": [
    "first_date = pd.read_csv('D:/Жора/Data/first_dates.csv', index_col=0).loc['TCSG', 'date']\n",
    "df_finance = df_finance[df_finance['date'] >= first_date].copy().reset_index(drop=True)"
   ]
  },
  {
   "cell_type": "code",
   "execution_count": 78,
   "id": "e86aef8b",
   "metadata": {},
   "outputs": [
    {
     "name": "stdout",
     "output_type": "stream",
     "text": [
      "SBER\n",
      "VTBR\n",
      "TCSG\n"
     ]
    }
   ],
   "source": [
    "df_finance['date'] += pd.Timedelta(1, 'sec')\n",
    "for company in finance_comps:\n",
    "    print(f'{company}')\n",
    "    targets = pd.read_parquet(f'D:/Жора/Data/targets/{company}.parquet')\n",
    "    lag_cols_old = [col for col in targets.columns if ('lag' in col) and ('1_min' not in col)]\n",
    "    lag_cols_new = [f'{company}_{col}' for col in lag_cols_old]\n",
    "    targets.rename(columns={i:j for i, j in zip(lag_cols_old, lag_cols_new)}, inplace=True)\n",
    "    targets['date'] = targets['date'].astype('datetime64[ns]')\n",
    "  \n",
    "    df_finance = pd.merge_asof(df_finance, targets[['date', *lag_cols_new]], on='date', direction='backward')\n",
    "\n",
    "df_finance['date'] -= pd.Timedelta(1, 'sec')"
   ]
  },
  {
   "cell_type": "code",
   "execution_count": 79,
   "id": "3e260a3b",
   "metadata": {},
   "outputs": [],
   "source": [
    "df_finance.to_parquet('data_finance.parquet')"
   ]
  },
  {
   "cell_type": "code",
   "execution_count": 80,
   "id": "4931c619",
   "metadata": {},
   "outputs": [
    {
     "name": "stdout",
     "output_type": "stream",
     "text": [
      "GAZP\n",
      "ROSN\n",
      "LKOH\n",
      "NVTK\n"
     ]
    }
   ],
   "source": [
    "data_with_targets = pd.DataFrame()\n",
    "data = pd.read_parquet('data.parquet')\n",
    "data.sort_values('date', inplace=True, ignore_index=True)\n",
    "\n",
    "# data.drop_duplicates(['message_lemm'], inplace=True)\n",
    "times = ['5_min', '10_min', '15_min', '30_min', '1_hour', '1_day']\n",
    "for company in gazoil_comps:\n",
    "    print(f'{company}')\n",
    "    df = pd.read_parquet(f'D:/Жора/Data/targets/{company}.parquet')\n",
    "    df['date'] = df['date'].astype('datetime64[ns]')\n",
    "    for time, sh in zip(times, [5, 10, 15, 30, 60, 60*9]):\n",
    "        df[f'{company}_{time}_2_cls'] = df[f'{time}_lag_0'] < df[f'rate_{time}'].shift(-sh)\n",
    "        cols_for_std = [f'{time}_lag_{i}' for i in range(10)]\n",
    "\n",
    "        means = df[cols_for_std].mean(axis=1)\n",
    "        stds = df[cols_for_std].std(axis=1)\n",
    "        neg_type = (df[f'{time}_lag_0'] > means - 1 * stds).astype(int)\n",
    "        pos_type = (df[f'{time}_lag_0'] > means + 1 * stds).astype(int)\n",
    "        df[f'{company}_{time}_3_cls'] = neg_type + pos_type\n",
    "    \n",
    "    cols_cls = [f'{company}_{time}_2_cls' for time in times] + [f'{company}_{time}_3_cls' for time in times]\n",
    "    df = df[['date', *cols_cls]].copy()\n",
    "    \n",
    "    df_gasoil['date'] += pd.Timedelta(1, 'sec')\n",
    "    df_gasoil = pd.merge_asof(df_gasoil, df, on='date', direction='backward')\n",
    "    df_gasoil['date'] -= pd.Timedelta(1, 'sec')"
   ]
  },
  {
   "cell_type": "code",
   "execution_count": 84,
   "id": "21e4bfd6",
   "metadata": {},
   "outputs": [
    {
     "name": "stdout",
     "output_type": "stream",
     "text": [
      "SBER\n",
      "VTBR\n",
      "TCSG\n"
     ]
    }
   ],
   "source": [
    "data_with_targets = pd.DataFrame()\n",
    "data = pd.read_parquet('data.parquet')\n",
    "data.sort_values('date', inplace=True, ignore_index=True)\n",
    "\n",
    "# data.drop_duplicates(['message_lemm'], inplace=True)\n",
    "times = ['5_min', '10_min', '15_min', '30_min', '1_hour', '1_day']\n",
    "for company in finance_comps:\n",
    "    print(f'{company}')\n",
    "    df = pd.read_parquet(f'D:/Жора/Data/targets/{company}.parquet')\n",
    "    df['date'] = df['date'].astype('datetime64[ns]')\n",
    "    for time, sh in zip(times, [5, 10, 15, 30, 60, 60*9]):\n",
    "        df[f'{company}_{time}_2_cls'] = df[f'{time}_lag_0'] < df[f'rate_{time}'].shift(-sh)\n",
    "        cols_for_std = [f'{time}_lag_{i}' for i in range(10)]\n",
    "\n",
    "        means = df[cols_for_std].mean(axis=1)\n",
    "        stds = df[cols_for_std].std(axis=1)\n",
    "        neg_type = (df[f'{time}_lag_0'] > means - 1 * stds).astype(int)\n",
    "        pos_type = (df[f'{time}_lag_0'] > means + 1 * stds).astype(int)\n",
    "        df[f'{company}_{time}_3_cls'] = neg_type + pos_type\n",
    "    \n",
    "    cols_cls = [f'{company}_{time}_2_cls' for time in times] + [f'{company}_{time}_3_cls' for time in times]\n",
    "    df = df[['date', *cols_cls]].copy()\n",
    "    \n",
    "    df_finance['date'] += pd.Timedelta(1, 'sec')\n",
    "    df_finance = pd.merge_asof(df_finance, df, on='date', direction='backward')\n",
    "    df_finance['date'] -= pd.Timedelta(1, 'sec')"
   ]
  },
  {
   "cell_type": "code",
   "execution_count": 83,
   "id": "539d544d",
   "metadata": {},
   "outputs": [],
   "source": [
    "df_gasoil.to_parquet('data_gazoil.parquet')"
   ]
  },
  {
   "cell_type": "code",
   "execution_count": 85,
   "id": "dc9d2a0a",
   "metadata": {},
   "outputs": [],
   "source": [
    "df_finance.to_parquet('data_finance.parquet')"
   ]
  }
 ],
 "metadata": {
  "kernelspec": {
   "display_name": "Python 3 (ipykernel)",
   "language": "python",
   "name": "python3"
  },
  "language_info": {
   "codemirror_mode": {
    "name": "ipython",
    "version": 3
   },
   "file_extension": ".py",
   "mimetype": "text/x-python",
   "name": "python",
   "nbconvert_exporter": "python",
   "pygments_lexer": "ipython3",
   "version": "3.11.4"
  }
 },
 "nbformat": 4,
 "nbformat_minor": 5
}
